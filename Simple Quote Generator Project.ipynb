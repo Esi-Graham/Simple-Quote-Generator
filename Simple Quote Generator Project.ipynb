{
 "cells": [
  {
   "cell_type": "markdown",
   "id": "8e1cfa36-0b34-4d90-96be-7b96789df768",
   "metadata": {},
   "source": [
    "### Library Importation"
   ]
  },
  {
   "cell_type": "code",
   "execution_count": 52,
   "id": "fa14f51a-7216-41c9-aa1d-e04e74817ae7",
   "metadata": {},
   "outputs": [],
   "source": [
    "import random"
   ]
  },
  {
   "cell_type": "markdown",
   "id": "cf3fa95f-c8ad-43df-892c-513b828f822d",
   "metadata": {},
   "source": [
    "### List Definition"
   ]
  },
  {
   "cell_type": "code",
   "execution_count": 53,
   "id": "5d5cfaa6-0ccd-42fa-960e-1335d920d611",
   "metadata": {},
   "outputs": [],
   "source": [
    "my_quotes = [\"Your time is limited, so don't waste it living someone else's life. Don't be trapped by dogma – which is living with the results of other people's thinking. -Steve Jobs.\"\n",
    "                 \"The future belongs to those who believe in the beauty of their dreams. -Eleanor Roosevelt.\"\n",
    "                 \"If you look at what you have in life, you'll always have more. If you look at what you don't have in life, you'll never have enough. -Oprah Winfrey.\"\n",
    "                 \"The greatest glory in living lies not in never falling, but in rising every time we fall. -Nelson Mandela.\",\n",
    "                 \"The way to get started is to quit talking and begin doing. -Walt Disney.\"]\n",
    "                "
   ]
  },
  {
   "cell_type": "markdown",
   "id": "6225b2c2-51a2-40fd-a195-b8f139cbe7cb",
   "metadata": {},
   "source": [
    "### Random Quote Calling"
   ]
  },
  {
   "cell_type": "code",
   "execution_count": 40,
   "id": "b098845f-6542-4f79-a5d1-eecdc918c764",
   "metadata": {},
   "outputs": [
    {
     "name": "stdout",
     "output_type": "stream",
     "text": [
      "Your name is:\n",
      "The greatest glory in living lies not in never falling, but in rising every time we fall. -Nelson Mandela.\n"
     ]
    }
   ],
   "source": [
    "random_quotes=random.choice(my_quotes)\n",
    "print(\"Your name is:\")\n",
    "print(random_quotes)"
   ]
  },
  {
   "cell_type": "code",
   "execution_count": 54,
   "id": "b6ba9eb9-2fce-4aae-a9dd-b8296b725b82",
   "metadata": {},
   "outputs": [
    {
     "name": "stdout",
     "output_type": "stream",
     "text": [
      "\n",
      "Your name is:\n",
      "\n",
      "The way to get started is to quit talking and begin doing. -Walt Disney.\n",
      "\n"
     ]
    }
   ],
   "source": [
    "random_quotes=random.choice(my_quotes)\n",
    "print()\n",
    "print(\"Your name is:\")\n",
    "print()\n",
    "print(random_quotes)\n",
    "print()"
   ]
  },
  {
   "cell_type": "code",
   "execution_count": 55,
   "id": "d11eba04-ba1d-4563-82b6-31666d75bc44",
   "metadata": {},
   "outputs": [
    {
     "name": "stdout",
     "output_type": "stream",
     "text": [
      "Your name is:\n",
      "Your time is limited, so don't waste it living someone else's life. Don't be trapped by dogma – which is living with the results of other people's thinking. -Steve Jobs.The future belongs to those who believe in the beauty of their dreams. -Eleanor Roosevelt.If you look at what you have in life, you'll always have more. If you look at what you don't have in life, you'll never have enough. -Oprah Winfrey.The greatest glory in living lies not in never falling, but in rising every time we fall. -Nelson Mandela.\n"
     ]
    }
   ],
   "source": [
    "random_quotes=random.choice(my_quotes)\n",
    "print(\"Your name is:\")\n",
    "print(random_quotes)"
   ]
  },
  {
   "cell_type": "code",
   "execution_count": null,
   "id": "2cd6da4c-b91d-44e1-8f35-3dcdfe1f55f2",
   "metadata": {},
   "outputs": [],
   "source": []
  }
 ],
 "metadata": {
  "kernelspec": {
   "display_name": "Python 3 (ipykernel)",
   "language": "python",
   "name": "python3"
  },
  "language_info": {
   "codemirror_mode": {
    "name": "ipython",
    "version": 3
   },
   "file_extension": ".py",
   "mimetype": "text/x-python",
   "name": "python",
   "nbconvert_exporter": "python",
   "pygments_lexer": "ipython3",
   "version": "3.12.1"
  }
 },
 "nbformat": 4,
 "nbformat_minor": 5
}
